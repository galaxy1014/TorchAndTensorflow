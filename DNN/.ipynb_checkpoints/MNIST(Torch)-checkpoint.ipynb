{
 "cells": [
  {
   "cell_type": "code",
   "execution_count": 1,
   "metadata": {},
   "outputs": [],
   "source": [
    "import torch\n",
    "import torch.nn as nn\n",
    "import torch.optim as optim\n",
    "import torch.nn.functional as F\n",
    "import torchvision\n",
    "from torchvision.datasets import MNIST\n",
    "from torchvision.transforms import transforms\n",
    "from torch.utils.data import DataLoader"
   ]
  },
  {
   "cell_type": "code",
   "execution_count": 2,
   "metadata": {},
   "outputs": [],
   "source": [
    "directory = 'MNIST_data/'\n",
    "mnist_train = MNIST(directory, train=True, transform=transforms.ToTensor(),\n",
    "                   download=True)\n",
    "mnist_test = MNIST(directory, train=False, transform=transforms.ToTensor(),\n",
    "                  download=True)"
   ]
  },
  {
   "cell_type": "code",
   "execution_count": 3,
   "metadata": {},
   "outputs": [],
   "source": [
    "data_loader = DataLoader(dataset=mnist_train, batch_size=64, shuffle=True,\n",
    "                        drop_last=True)"
   ]
  },
  {
   "cell_type": "code",
   "execution_count": 4,
   "metadata": {},
   "outputs": [],
   "source": [
    "# input layer와 output layer를 제외한 2개의 hidden layer로 구성\n",
    "# input_layer : 28 * 28\n",
    "# hidden_layer1 : 128\n",
    "# hidden_layer2 : 64\n",
    "# output_layer : 10\n",
    "\n",
    "class NeuralNetwork(nn.Module):\n",
    "    def __init__(self):\n",
    "        super(NeuralNetwork, self).__init__()\n",
    "        self.layer1 = nn.Sequential(\n",
    "            nn.Linear(28 * 28, 128).to('cuda:0'),\n",
    "            nn.ReLU()\n",
    "        )\n",
    "        self.layer2 = nn.Sequential(\n",
    "            nn.Linear(128, 64).to('cuda:0'),\n",
    "            nn.ReLU()\n",
    "        )\n",
    "        self.layer3 = nn.Sequential(\n",
    "            nn.Linear(64, 10).to('cuda:0'),\n",
    "            nn.Softmax()\n",
    "        )\n",
    "\n",
    "    def forward(self, x):\n",
    "        out = self.layer1(x)\n",
    "        out = self.layer2(out)\n",
    "        out = self.layer3(out)\n",
    "        return out"
   ]
  },
  {
   "cell_type": "code",
   "execution_count": 5,
   "metadata": {},
   "outputs": [],
   "source": [
    "model = NeuralNetwork()\n",
    "criterion = nn.CrossEntropyLoss().to('cuda:0')\n",
    "optimizer = optim.Adam(model.parameters(), lr=0.00001)"
   ]
  },
  {
   "cell_type": "code",
   "execution_count": 6,
   "metadata": {},
   "outputs": [
    {
     "name": "stderr",
     "output_type": "stream",
     "text": [
      "C:\\Users\\or7l0\\anaconda3\\envs\\ju_hoon\\lib\\site-packages\\torch\\nn\\modules\\container.py:100: UserWarning: Implicit dimension choice for softmax has been deprecated. Change the call to include dim=X as an argument.\n",
      "  input = module(input)\n"
     ]
    },
    {
     "name": "stdout",
     "output_type": "stream",
     "text": [
      "Epoch : 1, cost : 2.278937\n",
      "Epoch : 2, cost : 2.136143\n",
      "Epoch : 3, cost : 1.987092\n",
      "Epoch : 4, cost : 1.870410\n",
      "Epoch : 5, cost : 1.795426\n",
      "Epoch : 6, cost : 1.751028\n",
      "Epoch : 7, cost : 1.722366\n",
      "Epoch : 8, cost : 1.702397\n",
      "Epoch : 9, cost : 1.687853\n",
      "Epoch : 10, cost : 1.676874\n",
      "Epoch : 11, cost : 1.668409\n",
      "Epoch : 12, cost : 1.661645\n",
      "Epoch : 13, cost : 1.656199\n",
      "Epoch : 14, cost : 1.651614\n",
      "Epoch : 15, cost : 1.647512\n",
      "Epoch : 16, cost : 1.642057\n",
      "Epoch : 17, cost : 1.627102\n",
      "Epoch : 18, cost : 1.614205\n",
      "Epoch : 19, cost : 1.605487\n",
      "Epoch : 20, cost : 1.598935\n",
      "Epoch : 21, cost : 1.593474\n",
      "Epoch : 22, cost : 1.588884\n",
      "Epoch : 23, cost : 1.584993\n",
      "Epoch : 24, cost : 1.581550\n",
      "Epoch : 25, cost : 1.578513\n",
      "Epoch : 26, cost : 1.575855\n",
      "Epoch : 27, cost : 1.573363\n",
      "Epoch : 28, cost : 1.571198\n",
      "Epoch : 29, cost : 1.569139\n",
      "Epoch : 30, cost : 1.567293\n",
      "Epoch : 31, cost : 1.565562\n"
     ]
    }
   ],
   "source": [
    "for epoch in range(31):\n",
    "    avg_cost = 0\n",
    "    \n",
    "    for X, Y in data_loader:\n",
    "        X = X.view(-1, 28 * 28).to('cuda:0')\n",
    "        Y = Y.to('cuda:0')\n",
    "        \n",
    "        optimizer.zero_grad()\n",
    "        hypothesis = model(X)\n",
    "        cost = criterion(hypothesis, Y)\n",
    "        cost.backward()\n",
    "        optimizer.step()\n",
    "        \n",
    "        avg_cost += cost / len(data_loader)\n",
    "        \n",
    "    print('Epoch : {}, cost : {:.6f}'.format(epoch + 1, avg_cost))"
   ]
  },
  {
   "cell_type": "code",
   "execution_count": 18,
   "metadata": {},
   "outputs": [
    {
     "name": "stdout",
     "output_type": "stream",
     "text": [
      "Accuracy: 0.9133999943733215\n",
      "Label:  3\n",
      "prediction:  3\n"
     ]
    },
    {
     "data": {
      "image/png": "[encoded data removed]",
      "text/plain": [
       "<Figure size 432x288 with 1 Axes>"
      ]
     },
     "metadata": {
      "needs_background": "light"
     },
     "output_type": "display_data"
    }
   ],
   "source": [
    "%matplotlib inline\n",
    "from matplotlib import pyplot as plt\n",
    "import random\n",
    "\n",
    "with torch.no_grad():\n",
    "    X_test = mnist_test.data.view(-1, 28 * 28).float().to('cuda:0')\n",
    "    Y_test = mnist_test.targets.to('cuda:0')\n",
    "    \n",
    "    prediction = model(X_test)\n",
    "    correct_prediction = torch.argmax(prediction, 1) == Y_test\n",
    "    accuracy = correct_prediction.float().mean()\n",
    "    print('Accuracy:', accuracy.item())\n",
    "    \n",
    "    r = random.randint(0, len(mnist_test) - 1)\n",
    "    X_single_data = mnist_test.data[r: r + 1].view(-1, 28 * 28).float().to('cuda:0')\n",
    "    Y_single_data = mnist_test.targets[r: r+1].to('cuda:0')\n",
    "    \n",
    "    print('Label: ', Y_single_data.item())\n",
    "    single_prediction = model(X_single_data)\n",
    "    print('prediction: ', torch.argmax(single_prediction, 1).item())\n",
    "    \n",
    "    plt.imshow(mnist_test.data[r: r+1].view(28, 28), cmap='Greys', interpolation='nearest')\n",
    "    plt.show()"
   ]
  },
  {
   "cell_type": "code",
   "execution_count": null,
   "metadata": {},
   "outputs": [],
   "source": []
  }
 ],
 "metadata": {
  "kernelspec": {
   "display_name": "Python 3",
   "language": "python",
   "name": "python3"
  },
  "language_info": {
   "codemirror_mode": {
    "name": "ipython",
    "version": 3
   },
   "file_extension": ".py",
   "mimetype": "text/x-python",
   "name": "python",
   "nbconvert_exporter": "python",
   "pygments_lexer": "ipython3",
   "version": "3.7.7"
  }
 },
 "nbformat": 4,
 "nbformat_minor": 4
}
